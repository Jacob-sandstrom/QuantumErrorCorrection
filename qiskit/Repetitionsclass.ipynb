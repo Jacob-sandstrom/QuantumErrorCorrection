{
 "cells": [
  {
   "cell_type": "code",
   "execution_count": 1,
   "metadata": {},
   "outputs": [],
   "source": [
    "import qiskit\n",
    "from qiskit import QuantumCircuit\n",
    "from qiskit.quantum_info import SparsePauliOp\n",
    "from qiskit.transpiler.preset_passmanagers import generate_preset_pass_manager\n",
    "from qiskit_ibm_runtime import EstimatorV2 as Estimator\n",
    "\n",
    "from qiskit import transpile, QuantumCircuit, QuantumRegister, ClassicalRegister\n",
    "from qiskit.result import marginal_counts\n",
    "\n",
    "# Qiskit Runtime\n",
    "from qiskit_ibm_runtime import QiskitRuntimeService, SamplerV2 as Sampler\n",
    "\n",
    "service = QiskitRuntimeService()"
   ]
  },
  {
   "cell_type": "code",
   "execution_count": null,
   "metadata": {},
   "outputs": [],
   "source": [
    "num_qubits = 7\n",
    "backend = service.least_busy(operational=True, simulator=False, min_num_qubits=num_qubits)\n",
    "backend"
   ]
  },
  {
   "cell_type": "code",
   "execution_count": null,
   "metadata": {},
   "outputs": [],
   "source": [
    "class RepetitionCode:\n",
    "    def __init__(self, d=3, repetitions=2):\n",
    "        \"\"\"\n",
    "        Initialiserar repetitionskoden.\n",
    "        :param d: Kodens distans\n",
    "        :param repetitions: Syndrom mätningar\n",
    "        \"\"\"\n",
    "        self.d = d\n",
    "        self.repetitions = repetitions\n",
    "        \n",
    "        # Kvantregister\n",
    "        self.qreg_data = QuantumRegister(d)  # Kvantbitar\n",
    "        self.qreg_measure = QuantumRegister(d - 1, name=\"ancillas\")  # Ancilla för syndrommätning\n",
    "        \n",
    "        # Klassiska register\n",
    "        self.creg_data = ClassicalRegister(d, name=\"final_state\")  # Slutlig mätning av datakvbit\n",
    "        self.creg_syndrome = [\n",
    "            ClassicalRegister(d - 1, name=f\"syndrome_{i+1}\") for i in range(repetitions)\n",
    "        ]\n",
    "\n",
    "        # Skapa kvantkrets\n",
    "        self.qc = QuantumCircuit(\n",
    "            self.qreg_data, self.qreg_measure, self.creg_data, *self.creg_syndrome\n",
    "        )\n",
    "\n",
    "    def initialize_qubits(self):\n",
    "        \"\"\"Initierar kvantbiten i |1> tillståndet.\"\"\"\n",
    "\n",
    "        self.qc.x(self.qreg_data[0]) #X grinden byter |0> -> |1>, eller |1> -> |0>\n",
    "        self.qc.barrier()            #Barriär tvingar kvantdatorn att göra allt innan (X grinden), innan den kan gå vidare\n",
    "    \n",
    "    def bit_flip_encoding(self):\n",
    "        \"\"\"Kodning av den logiska kvantbiten.\"\"\"\n",
    "\n",
    "        for i in range(1, self.d):  #Sprider tillståndet till de andra kvantbitarna\n",
    "            self.qc.cx(self.qreg_data[0], self.qreg_data[i]) \n",
    "        self.qc.barrier()\n",
    "\n",
    "    def syndrome_measurement(self):\n",
    "        \"\"\"Mäter syndrom och lagrar i klassiska register.\"\"\"\n",
    "        for r in range(self.repetitions):           # Antal repetitioner\n",
    "            for i in range(self.d - 1):             # Syndrom\n",
    "                self.qc.cx(self.qreg_data[i], self.qreg_measure[i])     \n",
    "                self.qc.cx(self.qreg_data[i + 1], self.qreg_measure[i])\n",
    "            self.qc.barrier()\n",
    "            self.qc.measure(self.qreg_measure, self.creg_syndrome[r])\n",
    "            self.qc.barrier()\n",
    "\n",
    "    def final_measurement(self):\n",
    "        \"\"\"Mäter slutliga tillståndet av datakvbit.\"\"\"\n",
    "        self.qc.measure(self.qreg_data, self.creg_data)\n",
    "\n",
    "    def build_circuit(self):\n",
    "        \"\"\"Bygger hela kvantkretsen.\"\"\"\n",
    "        self.initialize_qubits()\n",
    "        self.bit_flip_encoding()\n",
    "        self.syndrome_measurement()\n",
    "        self.final_measurement()\n",
    "        return self.qc\n"
   ]
  },
  {
   "cell_type": "code",
   "execution_count": null,
   "metadata": {},
   "outputs": [],
   "source": [
    "repetition_code = RepetitionCode(d=3, repetitions=3)\n",
    "qc = repetition_code.build_circuit()\n",
    "qc.draw(output='mpl',style='iqp')"
   ]
  },
  {
   "cell_type": "code",
   "execution_count": null,
   "metadata": {},
   "outputs": [],
   "source": [
    "from qiskit.transpiler.preset_passmanagers import generate_preset_pass_manager\n",
    "\n",
    "pm = generate_preset_pass_manager(backend=backend, optimization_level=1)\n",
    "isa_circuit = pm.run(qc)\n",
    "\n",
    "isa_circuit.draw('mpl', style='iqp', idle_wires=False)"
   ]
  },
  {
   "cell_type": "code",
   "execution_count": null,
   "metadata": {},
   "outputs": [],
   "source": [
    "repetition_code = RepetitionCode(d=3, repetitions=3)\n",
    "qc = repetition_code.build_circuit()\n",
    "no_correction_circuit = qc\n",
    "\n",
    "isa_no_correction_circuit = pm.run(no_correction_circuit)"
   ]
  },
  {
   "cell_type": "code",
   "execution_count": null,
   "metadata": {},
   "outputs": [],
   "source": [
    "sampler_no_correction = Sampler(backend)\n",
    "job_no_correction = sampler_no_correction.run([isa_no_correction_circuit], shots=1000)\n",
    "result_no_correction = job_no_correction.result()[0]"
   ]
  },
  {
   "cell_type": "code",
   "execution_count": null,
   "metadata": {},
   "outputs": [],
   "source": [
    "print(result_no_correction.data.syndrome_1.get_counts())\n",
    "print(result_no_correction.data.syndrome_2.get_counts())\n",
    "print(result_no_correction.data.syndrome_3.get_counts())"
   ]
  },
  {
   "cell_type": "code",
   "execution_count": null,
   "metadata": {},
   "outputs": [],
   "source": [
    "print(result_no_correction.data.final_state.get_counts())"
   ]
  },
  {
   "cell_type": "code",
   "execution_count": null,
   "metadata": {},
   "outputs": [],
   "source": [
    "syndromes_1 = []\n",
    "syndromes_2 = []\n",
    "syndromes_3 = []\n",
    "finalstate = []\n",
    "shots  = 1000\n",
    "for i in range(shots-1):\n",
    "\n",
    "    syndromes_1.append(result_no_correction.data.syndrome_1.get_counts(i))\n",
    "    syndromes_2.append(result_no_correction.data.syndrome_2.get_counts(i))\n",
    "    syndromes_3.append(result_no_correction.data.syndrome_3.get_counts(i))\n",
    "    finalstate.append(result_no_correction.data.final_state.get_counts(i))\n",
    "\n",
    "\n",
    "syndrome_list_1 = [list(item.keys())[0] for item in syndromes_1]\n",
    "print(syndrome_list_1)\n",
    "syndrome_list_2 = [list(item.keys())[0] for item in syndromes_2]\n",
    "print(syndrome_list_2)\n",
    "syndrome_list_3 = [list(item.keys())[0] for item in syndromes_3]\n",
    "print(syndrome_list_3)\n",
    "\n",
    "finalstate_list = [list(item.keys())[0] for item in finalstate]\n",
    "print(finalstate_list)"
   ]
  }
 ],
 "metadata": {
  "kernelspec": {
   "display_name": "base",
   "language": "python",
   "name": "python3"
  },
  "language_info": {
   "codemirror_mode": {
    "name": "ipython",
    "version": 3
   },
   "file_extension": ".py",
   "mimetype": "text/x-python",
   "name": "python",
   "nbconvert_exporter": "python",
   "pygments_lexer": "ipython3",
   "version": "3.12.8"
  }
 },
 "nbformat": 4,
 "nbformat_minor": 2
}
